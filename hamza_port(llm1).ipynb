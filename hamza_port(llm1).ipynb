{
 "cells": [
  {
   "cell_type": "code",
   "execution_count": 2,
   "id": "8e6d6c37",
   "metadata": {},
   "outputs": [],
   "source": [
    "from langchain_community.document_loaders import TextLoader"
   ]
  },
  {
   "cell_type": "code",
   "execution_count": 3,
   "id": "27b1f3d0",
   "metadata": {},
   "outputs": [],
   "source": [
    "loader=TextLoader('hamza_port.txt')"
   ]
  },
  {
   "cell_type": "code",
   "execution_count": 4,
   "id": "071d7898",
   "metadata": {},
   "outputs": [],
   "source": [
    "document=loader.load()"
   ]
  },
  {
   "cell_type": "code",
   "execution_count": 5,
   "id": "d8de2e0f",
   "metadata": {},
   "outputs": [],
   "source": [
    "from langchain_text_splitters import RecursiveCharacterTextSplitter"
   ]
  },
  {
   "cell_type": "code",
   "execution_count": 6,
   "id": "8c1b57c7",
   "metadata": {},
   "outputs": [],
   "source": [
    "splitter=RecursiveCharacterTextSplitter(chunk_size=500,chunk_overlap=10)"
   ]
  },
  {
   "cell_type": "code",
   "execution_count": 7,
   "id": "76e4a434",
   "metadata": {},
   "outputs": [],
   "source": [
    "chunks=splitter.split_documents(document)"
   ]
  },
  {
   "cell_type": "code",
   "execution_count": 8,
   "id": "2be81471",
   "metadata": {},
   "outputs": [
    {
     "name": "stdout",
     "output_type": "stream",
     "text": [
      "My name is Muhammad Hamza. I am a dedicated and ambitious student currently pursuing a Bachelor's degree in Data Science from Emerson University, Multan. I am in my second semester and have a strong vision of becoming a top data scientist, aiming to pursue my master's from MIT.\n",
      "I am passionate about artificial intelligence, machine learning, and large language models. I am actively learning and working on projects involving LLMs, RAG, and LangChain. My current goal is to build 100 useful AI projects during my summer vacation, including chatbots, PDF QA bots, and intelligent tools for education and productivity.\n",
      "I am skilled in Python and familiar with libraries such as Pandas, NumPy, Scikit-learn, Seaborn, Matplotlib, and LangChain. Iâ€™ve also started learning fine-tuning techniques for LLMs and working with Hugging Face models.\n",
      "\n",
      "In addition to my academic goals, I enjoy working on electronics and IoT projects using Arduino and ESP8266. I believe in extreme hard work and consistency, striving to push beyond limits to achieve success.\n",
      "My dream is not only to master data science but to become a creator of tools that can help and inspire others.\n"
     ]
    }
   ],
   "source": [
    "for i in chunks:\n",
    "    print(i.page_content)"
   ]
  },
  {
   "cell_type": "code",
   "execution_count": 9,
   "id": "b29a8987",
   "metadata": {},
   "outputs": [],
   "source": [
    "from langchain_community.embeddings import HuggingFaceEmbeddings"
   ]
  },
  {
   "cell_type": "code",
   "execution_count": 10,
   "id": "b70db337",
   "metadata": {},
   "outputs": [
    {
     "name": "stderr",
     "output_type": "stream",
     "text": [
      "C:\\Users\\HP\\AppData\\Local\\Temp\\ipykernel_7776\\3299487283.py:1: LangChainDeprecationWarning: The class `HuggingFaceEmbeddings` was deprecated in LangChain 0.2.2 and will be removed in 1.0. An updated version of the class exists in the :class:`~langchain-huggingface package and should be used instead. To use it run `pip install -U :class:`~langchain-huggingface` and import as `from :class:`~langchain_huggingface import HuggingFaceEmbeddings``.\n",
      "  emed=HuggingFaceEmbeddings(model_name='sentence-transformers/all-MiniLM-L6-v2')\n",
      "c:\\Users\\HP\\AppData\\Local\\Programs\\Python\\Python310\\lib\\site-packages\\tqdm\\auto.py:21: TqdmWarning: IProgress not found. Please update jupyter and ipywidgets. See https://ipywidgets.readthedocs.io/en/stable/user_install.html\n",
      "  from .autonotebook import tqdm as notebook_tqdm\n"
     ]
    },
    {
     "name": "stdout",
     "output_type": "stream",
     "text": [
      "WARNING:tensorflow:From c:\\Users\\HP\\AppData\\Local\\Programs\\Python\\Python310\\lib\\site-packages\\tf_keras\\src\\losses.py:2976: The name tf.losses.sparse_softmax_cross_entropy is deprecated. Please use tf.compat.v1.losses.sparse_softmax_cross_entropy instead.\n",
      "\n"
     ]
    }
   ],
   "source": [
    "emed=HuggingFaceEmbeddings(model_name='sentence-transformers/all-MiniLM-L6-v2')"
   ]
  },
  {
   "cell_type": "code",
   "execution_count": 11,
   "id": "b1394b5d",
   "metadata": {},
   "outputs": [],
   "source": [
    "from langchain_community.vectorstores import Chroma"
   ]
  },
  {
   "cell_type": "code",
   "execution_count": 12,
   "id": "7e855aed",
   "metadata": {},
   "outputs": [],
   "source": [
    "vectorstores=Chroma.from_documents(chunks, emed)"
   ]
  },
  {
   "cell_type": "code",
   "execution_count": 23,
   "id": "604e7869",
   "metadata": {},
   "outputs": [],
   "source": [
    "quizz='Where you from?'\n",
    "similar=vectorstores.similarity_search(quizz,k=3)\n"
   ]
  },
  {
   "cell_type": "code",
   "execution_count": 24,
   "id": "2f1472aa",
   "metadata": {},
   "outputs": [],
   "source": [
    "context=[main.page_content for main in similar]"
   ]
  },
  {
   "cell_type": "code",
   "execution_count": 25,
   "id": "489a5dd6",
   "metadata": {},
   "outputs": [
    {
     "name": "stdout",
     "output_type": "stream",
     "text": [
      "[\"My name is Muhammad Hamza. I am a dedicated and ambitious student currently pursuing a Bachelor's degree in Data Science from Emerson University, Multan. I am in my second semester and have a strong vision of becoming a top data scientist, aiming to pursue my master's from MIT.\", 'I am skilled in Python and familiar with libraries such as Pandas, NumPy, Scikit-learn, Seaborn, Matplotlib, and LangChain. Iâ€™ve also started learning fine-tuning techniques for LLMs and working with Hugging Face models.\\n\\nIn addition to my academic goals, I enjoy working on electronics and IoT projects using Arduino and ESP8266. I believe in extreme hard work and consistency, striving to push beyond limits to achieve success.', 'My dream is not only to master data science but to become a creator of tools that can help and inspire others.']\n"
     ]
    }
   ],
   "source": [
    "print(context)"
   ]
  },
  {
   "cell_type": "code",
   "execution_count": 26,
   "id": "5e7d493f",
   "metadata": {},
   "outputs": [],
   "source": [
    "prompt=f\"\"\"You are Hamza and if someone ask you question reply from given context. If answer not avaliable in context just say 'i dont know' \n",
    "Context: {context},\n",
    "Quizz:{quizz}\n",
    "\"\"\"\n"
   ]
  },
  {
   "cell_type": "code",
   "execution_count": 27,
   "id": "aebff815",
   "metadata": {},
   "outputs": [
    {
     "name": "stdout",
     "output_type": "stream",
     "text": [
      "Hamza: I'm from Multan.\n"
     ]
    }
   ],
   "source": [
    "import requests\n",
    "api_key = \"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\"\n",
    "url = \"https://api.groq.com/openai/v1/chat/completions\"\n",
    "headers={\n",
    "    'Authorization':f'Bearer {api_key}',\n",
    "    'Content-Type':'application/json'\n",
    "}\n",
    "\n",
    "payload={\n",
    "    'model':'llama3-8b-8192',\n",
    "    'messages':[{\n",
    "        'role':'user','content':prompt\n",
    "    }],\n",
    "    'max_tokens':60\n",
    "\n",
    "}\n",
    "response=requests.post(url=url,headers=headers,json=payload)\n",
    "data=response.json()\n",
    "print(f\"Hamza: {data['choices'][0]['message']['content']}\")"
   ]
  },
  {
   "cell_type": "code",
   "execution_count": null,
   "id": "97a67cee",
   "metadata": {},
   "outputs": [],
   "source": []
  }
 ],
 "metadata": {
  "kernelspec": {
   "display_name": "Python 3",
   "language": "python",
   "name": "python3"
  },
  "language_info": {
   "codemirror_mode": {
    "name": "ipython",
    "version": 3
   },
   "file_extension": ".py",
   "mimetype": "text/x-python",
   "name": "python",
   "nbconvert_exporter": "python",
   "pygments_lexer": "ipython3",
   "version": "3.10.0"
  }
 },
 "nbformat": 4,
 "nbformat_minor": 5
}
